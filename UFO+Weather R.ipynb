{
 "cells": [
  {
   "cell_type": "markdown",
   "id": "ef4c7143",
   "metadata": {},
   "source": [
    "## UFOs & Weather\n",
    "\n",
    "https://www.kaggle.com/emorelli/consolidated-ufo-weather-data\n",
    "\n"
   ]
  },
  {
   "cell_type": "code",
   "execution_count": 1,
   "id": "16b93973",
   "metadata": {},
   "outputs": [
    {
     "name": "stderr",
     "output_type": "stream",
     "text": [
      "Warning message:\n",
      "\"package 'dplyr' was built under R version 3.6.3\"\n",
      "\n",
      "Attaching package: 'dplyr'\n",
      "\n",
      "\n",
      "The following objects are masked from 'package:stats':\n",
      "\n",
      "    filter, lag\n",
      "\n",
      "\n",
      "The following objects are masked from 'package:base':\n",
      "\n",
      "    intersect, setdiff, setequal, union\n",
      "\n",
      "\n"
     ]
    }
   ],
   "source": [
    "# REQUIRED LIBRARIES\n",
    "\n",
    "library(dplyr)\n",
    "library(ggplot2)\n"
   ]
  },
  {
   "cell_type": "code",
   "execution_count": 2,
   "id": "36dc1314",
   "metadata": {},
   "outputs": [],
   "source": [
    "# READ DATASETS\n",
    "\n",
    "df <- read.csv(\"UFO+Weather/consolidated_weather_V03.csv\", na.strings = c(\"-\", \"-99\"))\n"
   ]
  },
  {
   "cell_type": "code",
   "execution_count": 3,
   "id": "2644a6b8",
   "metadata": {},
   "outputs": [
    {
     "data": {
      "text/html": [
       "<table class=\"dataframe\">\n",
       "<caption>A data.frame: 6 × 27</caption>\n",
       "<thead>\n",
       "\t<tr><th></th><th scope=col>state</th><th scope=col>city</th><th scope=col>colour</th><th scope=col>shape</th><th scope=col>mday</th><th scope=col>month</th><th scope=col>year</th><th scope=col>hour</th><th scope=col>id</th><th scope=col>pressure</th><th scope=col>...</th><th scope=col>dewpt</th><th scope=col>thunder</th><th scope=col>fog</th><th scope=col>precip</th><th scope=col>wspd</th><th scope=col>tornado</th><th scope=col>hum</th><th scope=col>snow</th><th scope=col>wgust</th><th scope=col>conds</th></tr>\n",
       "\t<tr><th></th><th scope=col>&lt;fct&gt;</th><th scope=col>&lt;fct&gt;</th><th scope=col>&lt;fct&gt;</th><th scope=col>&lt;fct&gt;</th><th scope=col>&lt;int&gt;</th><th scope=col>&lt;int&gt;</th><th scope=col>&lt;int&gt;</th><th scope=col>&lt;int&gt;</th><th scope=col>&lt;int&gt;</th><th scope=col>&lt;dbl&gt;</th><th scope=col>...</th><th scope=col>&lt;dbl&gt;</th><th scope=col>&lt;int&gt;</th><th scope=col>&lt;int&gt;</th><th scope=col>&lt;dbl&gt;</th><th scope=col>&lt;dbl&gt;</th><th scope=col>&lt;int&gt;</th><th scope=col>&lt;dbl&gt;</th><th scope=col>&lt;int&gt;</th><th scope=col>&lt;dbl&gt;</th><th scope=col>&lt;fct&gt;</th></tr>\n",
       "</thead>\n",
       "<tbody>\n",
       "\t<tr><th scope=row>1</th><td>WA</td><td>Olympia  </td><td>      </td><td>Formation</td><td>14</td><td>11</td><td>1997</td><td>21</td><td>NA</td><td>-0.1631492</td><td>...</td><td>-0.8674718</td><td>0</td><td>0</td><td>NA</td><td>-0.3576410</td><td>0</td><td> 1.5988723</td><td>0</td><td>NA</td><td>Clear        </td></tr>\n",
       "\t<tr><th scope=row>2</th><td>WA</td><td>Olympia  </td><td>      </td><td>Fireball </td><td>14</td><td>11</td><td>1997</td><td>21</td><td>NA</td><td>-0.1631492</td><td>...</td><td>-0.8674718</td><td>0</td><td>0</td><td>NA</td><td>-0.3576410</td><td>0</td><td> 1.5988723</td><td>0</td><td>NA</td><td>Clear        </td></tr>\n",
       "\t<tr><th scope=row>3</th><td>WA</td><td>Olympia  </td><td>      </td><td>Formation</td><td>14</td><td>11</td><td>1997</td><td>21</td><td>NA</td><td>-0.1631492</td><td>...</td><td>-0.8674718</td><td>0</td><td>0</td><td>NA</td><td>-0.3576410</td><td>0</td><td> 1.5988723</td><td>0</td><td>NA</td><td>Clear        </td></tr>\n",
       "\t<tr><th scope=row>4</th><td>MD</td><td>Salisbury</td><td>      </td><td>Oval     </td><td>24</td><td>11</td><td>1997</td><td> 2</td><td>NA</td><td>-0.1893786</td><td>...</td><td>-0.4640727</td><td>0</td><td>0</td><td>NA</td><td>-0.9112390</td><td>0</td><td> 0.9805245</td><td>0</td><td>NA</td><td>Mostly Cloudy</td></tr>\n",
       "\t<tr><th scope=row>5</th><td>MD</td><td>Salisbury</td><td>YELLOW</td><td>Oval     </td><td>24</td><td>11</td><td>1997</td><td> 2</td><td>NA</td><td>-0.1893786</td><td>...</td><td>-0.4640727</td><td>0</td><td>0</td><td>NA</td><td>-0.9112390</td><td>0</td><td> 0.9805245</td><td>0</td><td>NA</td><td>Mostly Cloudy</td></tr>\n",
       "\t<tr><th scope=row>6</th><td>MS</td><td>Gulfport </td><td>      </td><td>Triangle </td><td>31</td><td>12</td><td>1997</td><td>17</td><td>NA</td><td> 2.1056879</td><td>...</td><td>-0.9683215</td><td>0</td><td>0</td><td>NA</td><td> 0.3738992</td><td>0</td><td>-1.2074755</td><td>0</td><td>NA</td><td>Partly Cloudy</td></tr>\n",
       "</tbody>\n",
       "</table>\n"
      ],
      "text/latex": [
       "A data.frame: 6 × 27\n",
       "\\begin{tabular}{r|lllllllllllllllllllll}\n",
       "  & state & city & colour & shape & mday & month & year & hour & id & pressure & ... & dewpt & thunder & fog & precip & wspd & tornado & hum & snow & wgust & conds\\\\\n",
       "  & <fct> & <fct> & <fct> & <fct> & <int> & <int> & <int> & <int> & <int> & <dbl> & ... & <dbl> & <int> & <int> & <dbl> & <dbl> & <int> & <dbl> & <int> & <dbl> & <fct>\\\\\n",
       "\\hline\n",
       "\t1 & WA & Olympia   &        & Formation & 14 & 11 & 1997 & 21 & NA & -0.1631492 & ... & -0.8674718 & 0 & 0 & NA & -0.3576410 & 0 &  1.5988723 & 0 & NA & Clear        \\\\\n",
       "\t2 & WA & Olympia   &        & Fireball  & 14 & 11 & 1997 & 21 & NA & -0.1631492 & ... & -0.8674718 & 0 & 0 & NA & -0.3576410 & 0 &  1.5988723 & 0 & NA & Clear        \\\\\n",
       "\t3 & WA & Olympia   &        & Formation & 14 & 11 & 1997 & 21 & NA & -0.1631492 & ... & -0.8674718 & 0 & 0 & NA & -0.3576410 & 0 &  1.5988723 & 0 & NA & Clear        \\\\\n",
       "\t4 & MD & Salisbury &        & Oval      & 24 & 11 & 1997 &  2 & NA & -0.1893786 & ... & -0.4640727 & 0 & 0 & NA & -0.9112390 & 0 &  0.9805245 & 0 & NA & Mostly Cloudy\\\\\n",
       "\t5 & MD & Salisbury & YELLOW & Oval      & 24 & 11 & 1997 &  2 & NA & -0.1893786 & ... & -0.4640727 & 0 & 0 & NA & -0.9112390 & 0 &  0.9805245 & 0 & NA & Mostly Cloudy\\\\\n",
       "\t6 & MS & Gulfport  &        & Triangle  & 31 & 12 & 1997 & 17 & NA &  2.1056879 & ... & -0.9683215 & 0 & 0 & NA &  0.3738992 & 0 & -1.2074755 & 0 & NA & Partly Cloudy\\\\\n",
       "\\end{tabular}\n"
      ],
      "text/markdown": [
       "\n",
       "A data.frame: 6 × 27\n",
       "\n",
       "| <!--/--> | state &lt;fct&gt; | city &lt;fct&gt; | colour &lt;fct&gt; | shape &lt;fct&gt; | mday &lt;int&gt; | month &lt;int&gt; | year &lt;int&gt; | hour &lt;int&gt; | id &lt;int&gt; | pressure &lt;dbl&gt; | ... ... | dewpt &lt;dbl&gt; | thunder &lt;int&gt; | fog &lt;int&gt; | precip &lt;dbl&gt; | wspd &lt;dbl&gt; | tornado &lt;int&gt; | hum &lt;dbl&gt; | snow &lt;int&gt; | wgust &lt;dbl&gt; | conds &lt;fct&gt; |\n",
       "|---|---|---|---|---|---|---|---|---|---|---|---|---|---|---|---|---|---|---|---|---|---|\n",
       "| 1 | WA | Olympia   | <!----> | Formation | 14 | 11 | 1997 | 21 | NA | -0.1631492 | ... | -0.8674718 | 0 | 0 | NA | -0.3576410 | 0 |  1.5988723 | 0 | NA | Clear         |\n",
       "| 2 | WA | Olympia   | <!----> | Fireball  | 14 | 11 | 1997 | 21 | NA | -0.1631492 | ... | -0.8674718 | 0 | 0 | NA | -0.3576410 | 0 |  1.5988723 | 0 | NA | Clear         |\n",
       "| 3 | WA | Olympia   | <!----> | Formation | 14 | 11 | 1997 | 21 | NA | -0.1631492 | ... | -0.8674718 | 0 | 0 | NA | -0.3576410 | 0 |  1.5988723 | 0 | NA | Clear         |\n",
       "| 4 | MD | Salisbury | <!----> | Oval      | 24 | 11 | 1997 |  2 | NA | -0.1893786 | ... | -0.4640727 | 0 | 0 | NA | -0.9112390 | 0 |  0.9805245 | 0 | NA | Mostly Cloudy |\n",
       "| 5 | MD | Salisbury | YELLOW | Oval      | 24 | 11 | 1997 |  2 | NA | -0.1893786 | ... | -0.4640727 | 0 | 0 | NA | -0.9112390 | 0 |  0.9805245 | 0 | NA | Mostly Cloudy |\n",
       "| 6 | MS | Gulfport  | <!----> | Triangle  | 31 | 12 | 1997 | 17 | NA |  2.1056879 | ... | -0.9683215 | 0 | 0 | NA |  0.3738992 | 0 | -1.2074755 | 0 | NA | Partly Cloudy |\n",
       "\n"
      ],
      "text/plain": [
       "  state city      colour shape     mday month year hour id pressure   ...\n",
       "1 WA    Olympia          Formation 14   11    1997 21   NA -0.1631492 ...\n",
       "2 WA    Olympia          Fireball  14   11    1997 21   NA -0.1631492 ...\n",
       "3 WA    Olympia          Formation 14   11    1997 21   NA -0.1631492 ...\n",
       "4 MD    Salisbury        Oval      24   11    1997  2   NA -0.1893786 ...\n",
       "5 MD    Salisbury YELLOW Oval      24   11    1997  2   NA -0.1893786 ...\n",
       "6 MS    Gulfport         Triangle  31   12    1997 17   NA  2.1056879 ...\n",
       "  dewpt      thunder fog precip wspd       tornado hum        snow wgust\n",
       "1 -0.8674718 0       0   NA     -0.3576410 0        1.5988723 0    NA   \n",
       "2 -0.8674718 0       0   NA     -0.3576410 0        1.5988723 0    NA   \n",
       "3 -0.8674718 0       0   NA     -0.3576410 0        1.5988723 0    NA   \n",
       "4 -0.4640727 0       0   NA     -0.9112390 0        0.9805245 0    NA   \n",
       "5 -0.4640727 0       0   NA     -0.9112390 0        0.9805245 0    NA   \n",
       "6 -0.9683215 0       0   NA      0.3738992 0       -1.2074755 0    NA   \n",
       "  conds        \n",
       "1 Clear        \n",
       "2 Clear        \n",
       "3 Clear        \n",
       "4 Mostly Cloudy\n",
       "5 Mostly Cloudy\n",
       "6 Partly Cloudy"
      ]
     },
     "metadata": {},
     "output_type": "display_data"
    }
   ],
   "source": [
    "head(df)"
   ]
  },
  {
   "cell_type": "code",
   "execution_count": 8,
   "id": "19c91990",
   "metadata": {},
   "outputs": [
    {
     "data": {
      "text/html": [
       "<ol>\n",
       "\t<li><style>\n",
       ".list-inline {list-style: none; margin:0; padding: 0}\n",
       ".list-inline>li {display: inline-block}\n",
       ".list-inline>li:not(:last-child)::after {content: \"\\00b7\"; padding: 0 .5ex}\n",
       "</style>\n",
       "<ol class=list-inline><li>'state'</li><li>'city'</li><li>'colour'</li><li>'shape'</li><li>'mday'</li><li>'month'</li><li>'year'</li><li>'hour'</li><li>'id'</li><li>'pressure'</li><li>'temp'</li><li>'hail'</li><li>'heatindex'</li><li>'windchill'</li><li>'rain'</li><li>'vis'</li><li>'wdire'</li><li>'dewpt'</li><li>'thunder'</li><li>'fog'</li><li>'precip'</li><li>'wspd'</li><li>'tornado'</li><li>'hum'</li><li>'snow'</li><li>'wgust'</li><li>'conds'</li></ol>\n",
       "</li>\n",
       "</ol>\n"
      ],
      "text/latex": [
       "\\begin{enumerate}\n",
       "\\item \\begin{enumerate*}\n",
       "\\item 'state'\n",
       "\\item 'city'\n",
       "\\item 'colour'\n",
       "\\item 'shape'\n",
       "\\item 'mday'\n",
       "\\item 'month'\n",
       "\\item 'year'\n",
       "\\item 'hour'\n",
       "\\item 'id'\n",
       "\\item 'pressure'\n",
       "\\item 'temp'\n",
       "\\item 'hail'\n",
       "\\item 'heatindex'\n",
       "\\item 'windchill'\n",
       "\\item 'rain'\n",
       "\\item 'vis'\n",
       "\\item 'wdire'\n",
       "\\item 'dewpt'\n",
       "\\item 'thunder'\n",
       "\\item 'fog'\n",
       "\\item 'precip'\n",
       "\\item 'wspd'\n",
       "\\item 'tornado'\n",
       "\\item 'hum'\n",
       "\\item 'snow'\n",
       "\\item 'wgust'\n",
       "\\item 'conds'\n",
       "\\end{enumerate*}\n",
       "\n",
       "\\end{enumerate}\n"
      ],
      "text/markdown": [
       "1. 1. 'state'\n",
       "2. 'city'\n",
       "3. 'colour'\n",
       "4. 'shape'\n",
       "5. 'mday'\n",
       "6. 'month'\n",
       "7. 'year'\n",
       "8. 'hour'\n",
       "9. 'id'\n",
       "10. 'pressure'\n",
       "11. 'temp'\n",
       "12. 'hail'\n",
       "13. 'heatindex'\n",
       "14. 'windchill'\n",
       "15. 'rain'\n",
       "16. 'vis'\n",
       "17. 'wdire'\n",
       "18. 'dewpt'\n",
       "19. 'thunder'\n",
       "20. 'fog'\n",
       "21. 'precip'\n",
       "22. 'wspd'\n",
       "23. 'tornado'\n",
       "24. 'hum'\n",
       "25. 'snow'\n",
       "26. 'wgust'\n",
       "27. 'conds'\n",
       "\n",
       "\n",
       "\n",
       "\n",
       "\n"
      ],
      "text/plain": [
       "[[1]]\n",
       " [1] \"state\"     \"city\"      \"colour\"    \"shape\"     \"mday\"      \"month\"    \n",
       " [7] \"year\"      \"hour\"      \"id\"        \"pressure\"  \"temp\"      \"hail\"     \n",
       "[13] \"heatindex\" \"windchill\" \"rain\"      \"vis\"       \"wdire\"     \"dewpt\"    \n",
       "[19] \"thunder\"   \"fog\"       \"precip\"    \"wspd\"      \"tornado\"   \"hum\"      \n",
       "[25] \"snow\"      \"wgust\"     \"conds\"    \n"
      ]
     },
     "metadata": {},
     "output_type": "display_data"
    }
   ],
   "source": [
    "labels(df)[2]"
   ]
  },
  {
   "cell_type": "code",
   "execution_count": 4,
   "id": "46fe299e",
   "metadata": {},
   "outputs": [
    {
     "data": {
      "image/png": "[encoded data removed]",
      "text/plain": [
       "plot without title"
      ]
     },
     "metadata": {
      "image/png": {
       "height": 420,
       "width": 420
      }
     },
     "output_type": "display_data"
    }
   ],
   "source": [
    "# Avistamientos por forma\n",
    "\n",
    "ggplot(df, aes(x=reorder(shape, shape, FUN=length))) +\n",
    "  stat_count() + \n",
    "  theme_bw() + \n",
    "  coord_flip() +\n",
    "  labs(x = \"Shape\", y = \"Number of sightings\", \n",
    "  title=\"Most UFO sightings by Shape\")"
   ]
  },
  {
   "cell_type": "code",
   "execution_count": 15,
   "id": "aea34466",
   "metadata": {},
   "outputs": [
    {
     "data": {
      "text/html": [
       "<table class=\"dataframe\">\n",
       "<caption>A data.frame: 19 × 4</caption>\n",
       "<thead>\n",
       "\t<tr><th></th><th scope=col>Forma</th><th scope=col>Freq</th><th scope=col>FreqR</th><th scope=col>Porc</th></tr>\n",
       "\t<tr><th></th><th scope=col>&lt;fct&gt;</th><th scope=col>&lt;int&gt;</th><th scope=col>&lt;dbl&gt;</th><th scope=col>&lt;dbl&gt;</th></tr>\n",
       "</thead>\n",
       "<tbody>\n",
       "\t<tr><th scope=row>13</th><td>Light    </td><td>15493</td><td>2.986890e-01</td><td>29.868903027</td></tr>\n",
       "\t<tr><th scope=row>5</th><td>Circle   </td><td> 7680</td><td>1.480625e-01</td><td>14.806246385</td></tr>\n",
       "\t<tr><th scope=row>18</th><td>Triangle </td><td> 6770</td><td>1.305186e-01</td><td>13.051860420</td></tr>\n",
       "\t<tr><th scope=row>10</th><td>Fireball </td><td> 6193</td><td>1.193946e-01</td><td>11.939464045</td></tr>\n",
       "\t<tr><th scope=row>17</th><td>Sphere   </td><td> 4799</td><td>9.251976e-02</td><td> 9.251976094</td></tr>\n",
       "\t<tr><th scope=row>8</th><td>Disk     </td><td> 3470</td><td>6.689801e-02</td><td> 6.689801427</td></tr>\n",
       "\t<tr><th scope=row>15</th><td>Oval     </td><td> 3171</td><td>6.113360e-02</td><td> 6.113360324</td></tr>\n",
       "\t<tr><th scope=row>12</th><td>Formation</td><td> 2275</td><td>4.385965e-02</td><td> 4.385964912</td></tr>\n",
       "\t<tr><th scope=row>2</th><td>Changing </td><td> 1856</td><td>3.578176e-02</td><td> 3.578176210</td></tr>\n",
       "\t<tr><th scope=row>14</th><td>Other    </td><td>   79</td><td>1.523038e-03</td><td> 0.152303837</td></tr>\n",
       "\t<tr><th scope=row>16</th><td>Rectangle</td><td>   15</td><td>2.891845e-04</td><td> 0.028918450</td></tr>\n",
       "\t<tr><th scope=row>7</th><td>Diamond  </td><td>   14</td><td>2.699055e-04</td><td> 0.026990553</td></tr>\n",
       "\t<tr><th scope=row>4</th><td>Cigar    </td><td>   12</td><td>2.313476e-04</td><td> 0.023134760</td></tr>\n",
       "\t<tr><th scope=row>6</th><td>Cylinder </td><td>   12</td><td>2.313476e-04</td><td> 0.023134760</td></tr>\n",
       "\t<tr><th scope=row>3</th><td>Chevron  </td><td>   11</td><td>2.120686e-04</td><td> 0.021206863</td></tr>\n",
       "\t<tr><th scope=row>11</th><td>Flash    </td><td>   11</td><td>2.120686e-04</td><td> 0.021206863</td></tr>\n",
       "\t<tr><th scope=row>19</th><td>VARIOUS  </td><td>    4</td><td>7.711587e-05</td><td> 0.007711587</td></tr>\n",
       "\t<tr><th scope=row>9</th><td>EGG      </td><td>    3</td><td>5.783690e-05</td><td> 0.005783690</td></tr>\n",
       "\t<tr><th scope=row>1</th><td>         </td><td>    2</td><td>3.855793e-05</td><td> 0.003855793</td></tr>\n",
       "</tbody>\n",
       "</table>\n"
      ],
      "text/latex": [
       "A data.frame: 19 × 4\n",
       "\\begin{tabular}{r|llll}\n",
       "  & Forma & Freq & FreqR & Porc\\\\\n",
       "  & <fct> & <int> & <dbl> & <dbl>\\\\\n",
       "\\hline\n",
       "\t13 & Light     & 15493 & 2.986890e-01 & 29.868903027\\\\\n",
       "\t5 & Circle    &  7680 & 1.480625e-01 & 14.806246385\\\\\n",
       "\t18 & Triangle  &  6770 & 1.305186e-01 & 13.051860420\\\\\n",
       "\t10 & Fireball  &  6193 & 1.193946e-01 & 11.939464045\\\\\n",
       "\t17 & Sphere    &  4799 & 9.251976e-02 &  9.251976094\\\\\n",
       "\t8 & Disk      &  3470 & 6.689801e-02 &  6.689801427\\\\\n",
       "\t15 & Oval      &  3171 & 6.113360e-02 &  6.113360324\\\\\n",
       "\t12 & Formation &  2275 & 4.385965e-02 &  4.385964912\\\\\n",
       "\t2 & Changing  &  1856 & 3.578176e-02 &  3.578176210\\\\\n",
       "\t14 & Other     &    79 & 1.523038e-03 &  0.152303837\\\\\n",
       "\t16 & Rectangle &    15 & 2.891845e-04 &  0.028918450\\\\\n",
       "\t7 & Diamond   &    14 & 2.699055e-04 &  0.026990553\\\\\n",
       "\t4 & Cigar     &    12 & 2.313476e-04 &  0.023134760\\\\\n",
       "\t6 & Cylinder  &    12 & 2.313476e-04 &  0.023134760\\\\\n",
       "\t3 & Chevron   &    11 & 2.120686e-04 &  0.021206863\\\\\n",
       "\t11 & Flash     &    11 & 2.120686e-04 &  0.021206863\\\\\n",
       "\t19 & VARIOUS   &     4 & 7.711587e-05 &  0.007711587\\\\\n",
       "\t9 & EGG       &     3 & 5.783690e-05 &  0.005783690\\\\\n",
       "\t1 &           &     2 & 3.855793e-05 &  0.003855793\\\\\n",
       "\\end{tabular}\n"
      ],
      "text/markdown": [
       "\n",
       "A data.frame: 19 × 4\n",
       "\n",
       "| <!--/--> | Forma &lt;fct&gt; | Freq &lt;int&gt; | FreqR &lt;dbl&gt; | Porc &lt;dbl&gt; |\n",
       "|---|---|---|---|---|\n",
       "| 13 | Light     | 15493 | 2.986890e-01 | 29.868903027 |\n",
       "| 5 | Circle    |  7680 | 1.480625e-01 | 14.806246385 |\n",
       "| 18 | Triangle  |  6770 | 1.305186e-01 | 13.051860420 |\n",
       "| 10 | Fireball  |  6193 | 1.193946e-01 | 11.939464045 |\n",
       "| 17 | Sphere    |  4799 | 9.251976e-02 |  9.251976094 |\n",
       "| 8 | Disk      |  3470 | 6.689801e-02 |  6.689801427 |\n",
       "| 15 | Oval      |  3171 | 6.113360e-02 |  6.113360324 |\n",
       "| 12 | Formation |  2275 | 4.385965e-02 |  4.385964912 |\n",
       "| 2 | Changing  |  1856 | 3.578176e-02 |  3.578176210 |\n",
       "| 14 | Other     |    79 | 1.523038e-03 |  0.152303837 |\n",
       "| 16 | Rectangle |    15 | 2.891845e-04 |  0.028918450 |\n",
       "| 7 | Diamond   |    14 | 2.699055e-04 |  0.026990553 |\n",
       "| 4 | Cigar     |    12 | 2.313476e-04 |  0.023134760 |\n",
       "| 6 | Cylinder  |    12 | 2.313476e-04 |  0.023134760 |\n",
       "| 3 | Chevron   |    11 | 2.120686e-04 |  0.021206863 |\n",
       "| 11 | Flash     |    11 | 2.120686e-04 |  0.021206863 |\n",
       "| 19 | VARIOUS   |     4 | 7.711587e-05 |  0.007711587 |\n",
       "| 9 | EGG       |     3 | 5.783690e-05 |  0.005783690 |\n",
       "| 1 | <!----> |     2 | 3.855793e-05 |  0.003855793 |\n",
       "\n"
      ],
      "text/plain": [
       "   Forma     Freq  FreqR        Porc        \n",
       "13 Light     15493 2.986890e-01 29.868903027\n",
       "5  Circle     7680 1.480625e-01 14.806246385\n",
       "18 Triangle   6770 1.305186e-01 13.051860420\n",
       "10 Fireball   6193 1.193946e-01 11.939464045\n",
       "17 Sphere     4799 9.251976e-02  9.251976094\n",
       "8  Disk       3470 6.689801e-02  6.689801427\n",
       "15 Oval       3171 6.113360e-02  6.113360324\n",
       "12 Formation  2275 4.385965e-02  4.385964912\n",
       "2  Changing   1856 3.578176e-02  3.578176210\n",
       "14 Other        79 1.523038e-03  0.152303837\n",
       "16 Rectangle    15 2.891845e-04  0.028918450\n",
       "7  Diamond      14 2.699055e-04  0.026990553\n",
       "4  Cigar        12 2.313476e-04  0.023134760\n",
       "6  Cylinder     12 2.313476e-04  0.023134760\n",
       "3  Chevron      11 2.120686e-04  0.021206863\n",
       "11 Flash        11 2.120686e-04  0.021206863\n",
       "19 VARIOUS       4 7.711587e-05  0.007711587\n",
       "9  EGG           3 5.783690e-05  0.005783690\n",
       "1                2 3.855793e-05  0.003855793"
      ]
     },
     "metadata": {},
     "output_type": "display_data"
    }
   ],
   "source": [
    "formas <- as.data.frame(table(df$shape))\n",
    "names(formas) <- c(\"Forma\",\"Freq\")\n",
    "formas <- formas[order(formas$Freq,decreasing=TRUE),]\n",
    "formas$FreqR <- formas$Freq / sum(formas$Freq)\n",
    "formas$Porc <- formas$FreqR * 100\n",
    "formas"
   ]
  },
  {
   "cell_type": "code",
   "execution_count": 16,
   "id": "4375f6ed",
   "metadata": {},
   "outputs": [
    {
     "data": {
      "image/png": "[encoded data removed]",
      "text/plain": [
       "plot without title"
      ]
     },
     "metadata": {
      "image/png": {
       "height": 420,
       "width": 420
      }
     },
     "output_type": "display_data"
    }
   ],
   "source": [
    "# Avistamientos por color\n",
    "\n",
    "ggplot(df, aes(x=reorder(colour, colour, FUN=length))) +\n",
    "  stat_count() + \n",
    "  theme_bw() + \n",
    "  coord_flip() +\n",
    "  labs(x = \"Colour\", y = \"Number of sightings\", \n",
    "       title=\"Most UFO sightings by Colour\")\n",
    "\n"
   ]
  },
  {
   "cell_type": "code",
   "execution_count": 17,
   "id": "a4398d0e",
   "metadata": {},
   "outputs": [
    {
     "data": {
      "text/html": [
       "<table class=\"dataframe\">\n",
       "<caption>A data.frame: 18 × 4</caption>\n",
       "<thead>\n",
       "\t<tr><th></th><th scope=col>Color</th><th scope=col>Freq</th><th scope=col>FreqR</th><th scope=col>Porc</th></tr>\n",
       "\t<tr><th></th><th scope=col>&lt;fct&gt;</th><th scope=col>&lt;int&gt;</th><th scope=col>&lt;dbl&gt;</th><th scope=col>&lt;dbl&gt;</th></tr>\n",
       "</thead>\n",
       "<tbody>\n",
       "\t<tr><th scope=row>1</th><td>                </td><td>51790</td><td>9.984577e-01</td><td>99.845768267</td></tr>\n",
       "\t<tr><th scope=row>9</th><td>RED             </td><td>   26</td><td>5.012531e-04</td><td> 0.050125313</td></tr>\n",
       "\t<tr><th scope=row>3</th><td>GREEN           </td><td>   17</td><td>3.277424e-04</td><td> 0.032774243</td></tr>\n",
       "\t<tr><th scope=row>2</th><td>BLUE            </td><td>    9</td><td>1.735107e-04</td><td> 0.017351070</td></tr>\n",
       "\t<tr><th scope=row>5</th><td>ORANGE          </td><td>    9</td><td>1.735107e-04</td><td> 0.017351070</td></tr>\n",
       "\t<tr><th scope=row>15</th><td>RED YELLOW GREEN</td><td>    3</td><td>5.783690e-05</td><td> 0.005783690</td></tr>\n",
       "\t<tr><th scope=row>16</th><td>YELLOW          </td><td>    3</td><td>5.783690e-05</td><td> 0.005783690</td></tr>\n",
       "\t<tr><th scope=row>8</th><td>ORANGE YELLOW   </td><td>    2</td><td>3.855793e-05</td><td> 0.003855793</td></tr>\n",
       "\t<tr><th scope=row>12</th><td>RED ORANGE      </td><td>    2</td><td>3.855793e-05</td><td> 0.003855793</td></tr>\n",
       "\t<tr><th scope=row>4</th><td>GREEN BLUE      </td><td>    1</td><td>1.927897e-05</td><td> 0.001927897</td></tr>\n",
       "\t<tr><th scope=row>6</th><td>ORANGE BLUE     </td><td>    1</td><td>1.927897e-05</td><td> 0.001927897</td></tr>\n",
       "\t<tr><th scope=row>7</th><td>ORANGE GREEN    </td><td>    1</td><td>1.927897e-05</td><td> 0.001927897</td></tr>\n",
       "\t<tr><th scope=row>10</th><td>RED BLUE        </td><td>    1</td><td>1.927897e-05</td><td> 0.001927897</td></tr>\n",
       "\t<tr><th scope=row>11</th><td>RED GREEN       </td><td>    1</td><td>1.927897e-05</td><td> 0.001927897</td></tr>\n",
       "\t<tr><th scope=row>13</th><td>RED ORANGE GREEN</td><td>    1</td><td>1.927897e-05</td><td> 0.001927897</td></tr>\n",
       "\t<tr><th scope=row>14</th><td>RED YELLOW      </td><td>    1</td><td>1.927897e-05</td><td> 0.001927897</td></tr>\n",
       "\t<tr><th scope=row>17</th><td>YELLOW BLUE     </td><td>    1</td><td>1.927897e-05</td><td> 0.001927897</td></tr>\n",
       "\t<tr><th scope=row>18</th><td>YELLOW GREEN    </td><td>    1</td><td>1.927897e-05</td><td> 0.001927897</td></tr>\n",
       "</tbody>\n",
       "</table>\n"
      ],
      "text/latex": [
       "A data.frame: 18 × 4\n",
       "\\begin{tabular}{r|llll}\n",
       "  & Color & Freq & FreqR & Porc\\\\\n",
       "  & <fct> & <int> & <dbl> & <dbl>\\\\\n",
       "\\hline\n",
       "\t1 &                  & 51790 & 9.984577e-01 & 99.845768267\\\\\n",
       "\t9 & RED              &    26 & 5.012531e-04 &  0.050125313\\\\\n",
       "\t3 & GREEN            &    17 & 3.277424e-04 &  0.032774243\\\\\n",
       "\t2 & BLUE             &     9 & 1.735107e-04 &  0.017351070\\\\\n",
       "\t5 & ORANGE           &     9 & 1.735107e-04 &  0.017351070\\\\\n",
       "\t15 & RED YELLOW GREEN &     3 & 5.783690e-05 &  0.005783690\\\\\n",
       "\t16 & YELLOW           &     3 & 5.783690e-05 &  0.005783690\\\\\n",
       "\t8 & ORANGE YELLOW    &     2 & 3.855793e-05 &  0.003855793\\\\\n",
       "\t12 & RED ORANGE       &     2 & 3.855793e-05 &  0.003855793\\\\\n",
       "\t4 & GREEN BLUE       &     1 & 1.927897e-05 &  0.001927897\\\\\n",
       "\t6 & ORANGE BLUE      &     1 & 1.927897e-05 &  0.001927897\\\\\n",
       "\t7 & ORANGE GREEN     &     1 & 1.927897e-05 &  0.001927897\\\\\n",
       "\t10 & RED BLUE         &     1 & 1.927897e-05 &  0.001927897\\\\\n",
       "\t11 & RED GREEN        &     1 & 1.927897e-05 &  0.001927897\\\\\n",
       "\t13 & RED ORANGE GREEN &     1 & 1.927897e-05 &  0.001927897\\\\\n",
       "\t14 & RED YELLOW       &     1 & 1.927897e-05 &  0.001927897\\\\\n",
       "\t17 & YELLOW BLUE      &     1 & 1.927897e-05 &  0.001927897\\\\\n",
       "\t18 & YELLOW GREEN     &     1 & 1.927897e-05 &  0.001927897\\\\\n",
       "\\end{tabular}\n"
      ],
      "text/markdown": [
       "\n",
       "A data.frame: 18 × 4\n",
       "\n",
       "| <!--/--> | Color &lt;fct&gt; | Freq &lt;int&gt; | FreqR &lt;dbl&gt; | Porc &lt;dbl&gt; |\n",
       "|---|---|---|---|---|\n",
       "| 1 | <!----> | 51790 | 9.984577e-01 | 99.845768267 |\n",
       "| 9 | RED              |    26 | 5.012531e-04 |  0.050125313 |\n",
       "| 3 | GREEN            |    17 | 3.277424e-04 |  0.032774243 |\n",
       "| 2 | BLUE             |     9 | 1.735107e-04 |  0.017351070 |\n",
       "| 5 | ORANGE           |     9 | 1.735107e-04 |  0.017351070 |\n",
       "| 15 | RED YELLOW GREEN |     3 | 5.783690e-05 |  0.005783690 |\n",
       "| 16 | YELLOW           |     3 | 5.783690e-05 |  0.005783690 |\n",
       "| 8 | ORANGE YELLOW    |     2 | 3.855793e-05 |  0.003855793 |\n",
       "| 12 | RED ORANGE       |     2 | 3.855793e-05 |  0.003855793 |\n",
       "| 4 | GREEN BLUE       |     1 | 1.927897e-05 |  0.001927897 |\n",
       "| 6 | ORANGE BLUE      |     1 | 1.927897e-05 |  0.001927897 |\n",
       "| 7 | ORANGE GREEN     |     1 | 1.927897e-05 |  0.001927897 |\n",
       "| 10 | RED BLUE         |     1 | 1.927897e-05 |  0.001927897 |\n",
       "| 11 | RED GREEN        |     1 | 1.927897e-05 |  0.001927897 |\n",
       "| 13 | RED ORANGE GREEN |     1 | 1.927897e-05 |  0.001927897 |\n",
       "| 14 | RED YELLOW       |     1 | 1.927897e-05 |  0.001927897 |\n",
       "| 17 | YELLOW BLUE      |     1 | 1.927897e-05 |  0.001927897 |\n",
       "| 18 | YELLOW GREEN     |     1 | 1.927897e-05 |  0.001927897 |\n",
       "\n"
      ],
      "text/plain": [
       "   Color            Freq  FreqR        Porc        \n",
       "1                   51790 9.984577e-01 99.845768267\n",
       "9  RED                 26 5.012531e-04  0.050125313\n",
       "3  GREEN               17 3.277424e-04  0.032774243\n",
       "2  BLUE                 9 1.735107e-04  0.017351070\n",
       "5  ORANGE               9 1.735107e-04  0.017351070\n",
       "15 RED YELLOW GREEN     3 5.783690e-05  0.005783690\n",
       "16 YELLOW               3 5.783690e-05  0.005783690\n",
       "8  ORANGE YELLOW        2 3.855793e-05  0.003855793\n",
       "12 RED ORANGE           2 3.855793e-05  0.003855793\n",
       "4  GREEN BLUE           1 1.927897e-05  0.001927897\n",
       "6  ORANGE BLUE          1 1.927897e-05  0.001927897\n",
       "7  ORANGE GREEN         1 1.927897e-05  0.001927897\n",
       "10 RED BLUE             1 1.927897e-05  0.001927897\n",
       "11 RED GREEN            1 1.927897e-05  0.001927897\n",
       "13 RED ORANGE GREEN     1 1.927897e-05  0.001927897\n",
       "14 RED YELLOW           1 1.927897e-05  0.001927897\n",
       "17 YELLOW BLUE          1 1.927897e-05  0.001927897\n",
       "18 YELLOW GREEN         1 1.927897e-05  0.001927897"
      ]
     },
     "metadata": {},
     "output_type": "display_data"
    }
   ],
   "source": [
    "colores <- as.data.frame(table(df$colour))\n",
    "names(colores) <- c(\"Color\",\"Freq\")\n",
    "colores <- colores[order(colores$Freq,decreasing=TRUE),]\n",
    "colores$FreqR <- colores$Freq / sum(colores$Freq)\n",
    "colores$Porc <- colores$FreqR * 100\n",
    "colores"
   ]
  },
  {
   "cell_type": "code",
   "execution_count": 20,
   "id": "7c167147",
   "metadata": {},
   "outputs": [
    {
     "data": {
      "text/plain": [
       "   Min. 1st Qu.  Median    Mean 3rd Qu.    Max. \n",
       "   1997    2005    2011    2009    2014    2017 "
      ]
     },
     "metadata": {},
     "output_type": "display_data"
    },
    {
     "data": {
      "image/png": "[encoded data removed]",
      "text/plain": [
       "plot without title"
      ]
     },
     "metadata": {
      "image/png": {
       "height": 420,
       "width": 420
      }
     },
     "output_type": "display_data"
    }
   ],
   "source": [
    "# Evolución temporal de los avistamientos\n",
    "\n",
    "summary(df$year)\n",
    "\n",
    "ggplot(df, aes(x=year)) +\n",
    "  stat_count() + \n",
    "  theme_bw() + \n",
    "  labs(x = \"Year\", y = \"Number of sightings\", \n",
    "  title=\"UFO sightings by Year\")"
   ]
  },
  {
   "cell_type": "code",
   "execution_count": 18,
   "id": "a6d28920",
   "metadata": {},
   "outputs": [
    {
     "data": {
      "image/png": "[encoded data removed]",
      "text/plain": [
       "plot without title"
      ]
     },
     "metadata": {
      "image/png": {
       "height": 420,
       "width": 420
      }
     },
     "output_type": "display_data"
    }
   ],
   "source": [
    "# Evolución temporal según la forma\n",
    "\n",
    "ggplot(df, aes(x=year)) +\n",
    "  stat_count() + \n",
    "  theme_bw() + \n",
    "  facet_wrap(vars(shape)) +\n",
    "  labs(x = \"Year\", y = \"Number of sightings\", \n",
    "  title=\"UFO sightings by Year and Shape\")"
   ]
  },
  {
   "cell_type": "code",
   "execution_count": null,
   "id": "2411878c",
   "metadata": {},
   "outputs": [],
   "source": [
    "# Avistamientos por Estados\n",
    "\n",
    "ggplot(df, aes(x=reorder(state, state, FUN=length))) +\n",
    "  stat_count() + \n",
    "  theme_bw() + \n",
    "  coord_flip() +\n",
    "  labs(x = \"State\", y = \"Number of sightings\", \n",
    "  title=\"Most UFO sightings by State\")"
   ]
  },
  {
   "cell_type": "code",
   "execution_count": null,
   "id": "92637d48",
   "metadata": {},
   "outputs": [],
   "source": [
    "# Avistamientos por condiciones climatológicas\n",
    "\n",
    "ggplot(df, aes(x=reorder(conds, conds, FUN=length))) +\n",
    "  stat_count() + \n",
    "  theme_bw() + \n",
    "  coord_flip() +\n",
    "  labs(x = \"Conds\", y = \"Number of sightings\", \n",
    "  title=\"Most UFO sightings by Conds\")"
   ]
  },
  {
   "cell_type": "code",
   "execution_count": null,
   "id": "09d2de53",
   "metadata": {},
   "outputs": [],
   "source": [
    "# Test Chi Cuadrado para ver si existen diferencias en el número de avistamientos según las condiciones meteorológicas\n",
    "t2 <- table(df$cond)\n",
    "chisq.test(t2)\n",
    "\n",
    "# En este caso podemos tener problemas dado que existen muchas categorías y muchas de ellas con valores cero."
   ]
  },
  {
   "cell_type": "code",
   "execution_count": null,
   "id": "5ce09c93",
   "metadata": {},
   "outputs": [],
   "source": [
    "# Podríamos realizar el mismo análisis pero teniendo en cuentas sólo una condición (thunder, fog, snow...)\n"
   ]
  },
  {
   "cell_type": "code",
   "execution_count": null,
   "id": "ba20d635",
   "metadata": {},
   "outputs": [],
   "source": [
    "# Test Chi Cuadrado para ver si existen diferencias en el número de avistamientos según las condiciones meteorológicas\n",
    "t3 <- table(df$thunder)\n",
    "t3\n",
    "chisq.test(t3)"
   ]
  },
  {
   "cell_type": "code",
   "execution_count": null,
   "id": "83462c18",
   "metadata": {},
   "outputs": [],
   "source": [
    "# Evolución temporal por Estado\n",
    "\n",
    "ggplot(df, aes(x=year)) +\n",
    "  stat_count() + \n",
    "  theme_bw() + \n",
    "  facet_wrap(vars(state)) +\n",
    "  labs(x = \"Year\", y = \"Number of sightings\", \n",
    "  title=\"UFO sightings by Year and Shape\")"
   ]
  },
  {
   "cell_type": "code",
   "execution_count": null,
   "id": "63810fbc",
   "metadata": {},
   "outputs": [],
   "source": [
    "# Relación entre Estado y Forma\n",
    "t1 <- table(df$state,df$shape)\n",
    "chisq.test(t1)"
   ]
  },
  {
   "cell_type": "code",
   "execution_count": null,
   "id": "aa5d1a7c",
   "metadata": {},
   "outputs": [],
   "source": []
  },
  {
   "cell_type": "code",
   "execution_count": null,
   "id": "77697f81",
   "metadata": {},
   "outputs": [],
   "source": [
    "summary(df$precip)"
   ]
  },
  {
   "cell_type": "code",
   "execution_count": null,
   "id": "e38ec303",
   "metadata": {},
   "outputs": [],
   "source": []
  }
 ],
 "metadata": {
  "kernelspec": {
   "display_name": "R",
   "language": "R",
   "name": "ir"
  },
  "language_info": {
   "codemirror_mode": "r",
   "file_extension": ".r",
   "mimetype": "text/x-r-source",
   "name": "R",
   "pygments_lexer": "r",
   "version": "3.6.1"
  }
 },
 "nbformat": 4,
 "nbformat_minor": 5
}
